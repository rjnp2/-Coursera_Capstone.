{
 "cells": [
  {
   "cell_type": "markdown",
   "id": "d53e873f-7a7b-435c-8714-eef5a336c5e9",
   "metadata": {},
   "source": [
    "# The Battle of Neighborhoods | Business Proposal | Introduction\n",
    "\n",
    "## Introduction:\n"
   ]
  },
  {
   "cell_type": "markdown",
   "id": "f65b2712-7411-41a3-916e-1301fca76290",
   "metadata": {},
   "source": [
    "Since, lots of people are migrating to various states of Canada due to various reasons and they needs lot of research for accessing to Cafe, School, Super market, medical shops, grocery shops, mall, theatre, hospital, like minded people, good housing prices and schools for their children. People are looking for better neighborhoods also.\n",
    "\n",
    "This Project aim to create an analysis of neighborhood to help people in exploring better facilities around their neighborhood. It will help people making smart and efficient decision on selecting great neighborhood out of numbers of other neighborhoods in Scarborough, Toranto.\n",
    "\n",
    "Problem:\n",
    "1. Determine the cluster label for each capital\n",
    "2. Visualize the cluster label in map\n",
    "3. Determine the m\n",
    "\n"
   ]
  }
 ],
 "metadata": {
  "kernelspec": {
   "display_name": "Python",
   "language": "python",
   "name": "conda-env-python-py"
  },
  "language_info": {
   "codemirror_mode": {
    "name": "ipython",
    "version": 3
   },
   "file_extension": ".py",
   "mimetype": "text/x-python",
   "name": "python",
   "nbconvert_exporter": "python",
   "pygments_lexer": "ipython3",
   "version": "3.6.13"
  }
 },
 "nbformat": 4,
 "nbformat_minor": 5
}
